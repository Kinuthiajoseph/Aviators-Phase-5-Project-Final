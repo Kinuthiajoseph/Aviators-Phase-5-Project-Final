{
 "cells": [
  {
   "cell_type": "markdown",
   "metadata": {},
   "source": [
    "# X(Twitter) Customer Care Chatbot for Airlines in USA "
   ]
  },
  {
   "cell_type": "markdown",
   "metadata": {},
   "source": [
    "1. Customer Support for Airline Issues:\n",
    "\n",
    "Specify the types of airline-related issues your chatbot will address. This might include inquiries about flight reservations, ticket changes, baggage policies, travel restrictions, and more.\n",
    "Determine the level of complexity your chatbot can handle. For straightforward queries, your chatbot can provide quick and accurate responses. However, for more complex or specific issues, it should be able to recognize the need to involve a human agent.\n",
    "\n",
    "2. Flight Scheduling and Appointments:\n",
    "\n",
    "Define the flight scheduling and appointment-related tasks your chatbot can assist with. This could include:\n",
    "Helping users find and book flights.\n",
    "Providing information on flight availability, schedules, and prices.\n",
    "Assisting with rescheduling or canceling flights.\n",
    "Guiding users through the appointment booking process if applicable.\n",
    "\n",
    "3. Target Audience:\n",
    "\n",
    "Identify your target audience for this airline customer support chatbot. This might include travelers of various ages and backgrounds who use the airline's services.\n",
    "\n",
    "4. Escalation to Human Agents:\n",
    "\n",
    "Specify the conditions under which the chatbot should escalate a conversation to a human agent. For instance, if a user's issue is highly complex, emotionally charged, or falls outside the chatbot's predefined capabilities, it should initiate a transfer to a human agent.\n",
    "Additionally, consider the user experience, interface, and integration with your airline's systems for handling flight and appointment scheduling. Ensure that the chatbot can access real-time flight data and integrate with booking systems to provide accurate and up-to-date information to users.\n",
    "\n",
    "Once you've defined these aspects, you can move forward with the design and development of your chatbot, creating conversational flows, setting up a knowledge base or data sources, and implementing AI capabilities to make your chatbot effective in delivering customer support and assisting with flight and appointment scheduling.\n",
    "\n",
    "\n",
    "\n",
    "\n",
    "\n"
   ]
  },
  {
   "cell_type": "markdown",
   "metadata": {},
   "source": [
    "### Imports"
   ]
  },
  {
   "cell_type": "code",
   "execution_count": 9,
   "metadata": {},
   "outputs": [],
   "source": [
    "import pickle\n",
    "from textblob import TextBlob"
   ]
  },
  {
   "cell_type": "markdown",
   "metadata": {},
   "source": [
    "### Load the model from the pickle file"
   ]
  },
  {
   "cell_type": "code",
   "execution_count": 10,
   "metadata": {},
   "outputs": [],
   "source": [
    "# Load the sentiment analysis model from the pickle file\n",
    "with open('best_stacking_classifier.pkl', 'rb') as model_file:\n",
    "    sentiment_model = pickle.load(model_file)"
   ]
  },
  {
   "cell_type": "markdown",
   "metadata": {},
   "source": [
    "### Use TextBlob to predict sentiment"
   ]
  },
  {
   "cell_type": "code",
   "execution_count": 11,
   "metadata": {},
   "outputs": [],
   "source": [
    "# Function to predict sentiment using TextBlob\n",
    "def predict_sentiment(text):\n",
    "    analysis = TextBlob(text)\n",
    "    sentiment = analysis.sentiment.polarity\n",
    "    if sentiment > 0:\n",
    "        return 'positive'\n",
    "    elif sentiment < 0:\n",
    "        return 'negative'\n",
    "    else:\n",
    "        return 'neutral'"
   ]
  },
  {
   "cell_type": "markdown",
   "metadata": {},
   "source": [
    "### Test the response from the model"
   ]
  },
  {
   "cell_type": "code",
   "execution_count": 12,
   "metadata": {},
   "outputs": [
    {
     "name": "stdout",
     "output_type": "stream",
     "text": [
      "I'm glad to hear that you're feeling positive! How can I assist you today?\n"
     ]
    }
   ],
   "source": [
    "# Example user input\n",
    "user_input = \"I had a great flight with your airline!\"\n",
    "\n",
    "# Predict sentiment and generate response\n",
    "sentiment = predict_sentiment(user_input)\n",
    "response = generate_response(sentiment)\n",
    "\n",
    "print(response)"
   ]
  },
  {
   "cell_type": "code",
   "execution_count": 14,
   "metadata": {},
   "outputs": [
    {
     "name": "stdout",
     "output_type": "stream",
     "text": [
      "Customer Review:  My recent flight with your airline was a disaster. The flight was delayed, the staff was rude, and the service was terrible.\n",
      "Sentiment:  negative\n",
      "Chatbot Response:  I'm sorry to hear that you're feeling negative. I'll do my best to assist you. What's the issue?\n"
     ]
    }
   ],
   "source": [
    "# Example negative customer review\n",
    "customer_review = \"My recent flight with your airline was a disaster. The flight was delayed, the staff was rude, and the service was terrible.\"\n",
    "\n",
    "# Predict sentiment and generate a response\n",
    "sentiment = predict_sentiment(customer_review)\n",
    "response = generate_response(sentiment)\n",
    "\n",
    "print(\"Customer Review: \", customer_review)\n",
    "print(\"Sentiment: \", sentiment)\n",
    "print(\"Chatbot Response: \", response)"
   ]
  },
  {
   "cell_type": "code",
   "execution_count": null,
   "metadata": {},
   "outputs": [],
   "source": []
  }
 ],
 "metadata": {
  "kernelspec": {
   "display_name": "Python 3 (ipykernel)",
   "language": "python",
   "name": "python3"
  },
  "language_info": {
   "codemirror_mode": {
    "name": "ipython",
    "version": 3
   },
   "file_extension": ".py",
   "mimetype": "text/x-python",
   "name": "python",
   "nbconvert_exporter": "python",
   "pygments_lexer": "ipython3",
   "version": "3.10.11"
  }
 },
 "nbformat": 4,
 "nbformat_minor": 2
}
