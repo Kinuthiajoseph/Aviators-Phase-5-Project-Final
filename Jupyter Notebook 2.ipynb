{
 "cells": [
  {
   "cell_type": "markdown",
   "metadata": {},
   "source": [
    "# X (Twitter) Sentiment Analyis for Top Airlines in the USA"
   ]
  },
  {
   "cell_type": "markdown",
   "metadata": {},
   "source": [
    "### Group 8 - Aviators. Members:"
   ]
  },
  {
   "cell_type": "markdown",
   "metadata": {},
   "source": [
    "1. Joseph Kinuthia (Group leader)\n",
    "2. Emily Owiti\n",
    "3. James Mungai\n",
    "4. Paul Muriithi\n",
    "5. Raphael Kariuki\n",
    "6. Sylvia Muchiri"
   ]
  },
  {
   "cell_type": "markdown",
   "metadata": {},
   "source": [
    "# 1.0 Overview"
   ]
  },
  {
   "cell_type": "markdown",
   "metadata": {},
   "source": [
    "In this project, we focus on leveraging Natural Language Processing (NLP) techniques to analyze sentiments expressed in a Twitter dataset, specifically within the airline industry domain. The primary objectives include sentiment analysis, the construction of a precise tweet classification model, and the development of a chatbot capable of responding to customer feedback and directing queries to the appropriate resolution teams. By accomplishing these goals, we will create solutions that enable airline companies to extract valuable insights from social media data which will play a big role in enhancing their customer service, improving their service offering and empowering these organizations to make data-driven decisions."
   ]
  },
  {
   "cell_type": "markdown",
   "metadata": {},
   "source": [
    "# 1.1 Problem statement"
   ]
  },
  {
   "cell_type": "markdown",
   "metadata": {},
   "source": [
    "The advent of social media has generated an abundance of data, presenting both opportunities and challenges for organizations. This vast pool of data offers unparalleled insights into customer perceptions, preferences, and feedback. However, many organizations are yet to develop frameworks and strategies to effectively analyze and interpret such data. Insights from this data holds the potential to benefit various domains, including business operations, marketing strategies, public opinion analysis, and more.\n",
    "\n",
    "Our stakeholders (top American airline companies) have requested us to analyze social media raw data and showcase the customer sentiment as either positive, neutral or negative while identifying the top drivers for these sentiments.\n",
    "\n",
    "Our dataset is sourced from Twitter, capturing a wide array of tweets, and our primary focus is analyzing and visualizing drivers for key & top public & customer sentiment. We aim to address critical questions and challenges faced by airlines, such as understanding passenger sentiments from unstructured data and predicting engagement metrics. By doing so, we strive to provide airlines with the tools and knowledge needed to enhance customer experiences, optimize operations, and make data-driven decisions in an ever-evolving and competitive industry."
   ]
  },
  {
   "cell_type": "markdown",
   "metadata": {},
   "source": [
    "# 1.2 Business understanding"
   ]
  },
  {
   "cell_type": "markdown",
   "metadata": {},
   "source": [
    "Our dataset includes data for the top 5 airline companies in the USA and these are our primary stakeholders for the project. The key players are United Airlines, US Airways, American Airlines, Delta Airlines and Southwest Airlines.\n",
    "\n",
    "Below we discuss the general trends and factors that are common in the global airline industry.\n",
    "\n",
    "The global airline industry is a vital sector that provides air transport services for passengers and cargo. It plays a crucial role in connecting people, businesses, and regions across the world. The industry comprises a diverse range of airlines, including full-service carriers, low-cost carriers (LCCs), regional airlines, and charter airlines. Major players are often categorized into international, national, and regional carriers, each serving specific markets."
   ]
  },
  {
   "cell_type": "markdown",
   "metadata": {},
   "source": [
    "### Global airline industry trends:"
   ]
  },
  {
   "cell_type": "markdown",
   "metadata": {},
   "source": [
    "The trends below were useful in developing our understanding and hence optimal analysis our dataset.\n",
    "\n",
    "1. Digital transformation and technology adoption:\n",
    "While late adopters, airlines are increasingly leveraging technology to enhance operational efficiency, customer experiences, and overall service quality. This includes implementing mobile apps, self-service kiosks, AI-powered chatbots, and data analytics for personalized marketing and improved decision-making.\n",
    "\n",
    "2. Sustainable and environmentally friendly practices:\n",
    "Environmental sustainability has become a significant focus within the industry. Airlines are investing in more fuel-efficient aircraft, exploring biofuels, and implementing eco-friendly practices to reduce carbon emissions and mitigate their environmental impact.\n",
    "\n",
    "3. Demand for personalized travel experiences:\n",
    "Travelers now seek personalized experiences, leading to a shift in airline strategies. Airlines are customizing services, offering ancillary products, and tailoring loyalty programs to meet individual preferences and needs.\n",
    "\n",
    "4. Partnerships and alliances:\n",
    "Collaborations, partnerships, and alliances among airlines have become prevalent. These agreements help airlines expand their networks, improve cost-efficiency, and offer travelers more seamless travel options.\n",
    "\n",
    "5. Health and safety measures post-pandemic:\n",
    "The COVID-19 pandemic has significantly impacted the industry. Airlines are implementing stringent health and safety protocols to regain traveler confidence. Measures include enhanced cleaning procedures, health screenings, and contactless processes."
   ]
  },
  {
   "cell_type": "markdown",
   "metadata": {},
   "source": [
    "### Airline industry profit margins"
   ]
  },
  {
   "cell_type": "markdown",
   "metadata": {},
   "source": [
    "The net profit margin for airlines is highly influenced by market conditions, fuel prices, operational efficiency, competition, and economic trends. On average, net profit margins for airlines typically range from 2% to 5%. However, it's important to note that individual airline net profit margins may fluctuate, and some airlines may experience periods of losses due to various factors affecting the industry. Airlines with a positive brand tend to have lower customer churn and in return higher pricing and higher revenues."
   ]
  },
  {
   "cell_type": "markdown",
   "metadata": {},
   "source": [
    "# 1.3 Project objectives"
   ]
  },
  {
   "cell_type": "markdown",
   "metadata": {},
   "source": [
    "### 1.3.1 Main objective\n",
    "1. Sentiment analysis and chatbot development\n",
    "2. Come up with a solution to analyze raw tweets to extract the public sentiment ******** review this *****\n",
    "\n"
   ]
  },
  {
   "cell_type": "markdown",
   "metadata": {},
   "source": [
    "### 1.3.2 Specific objectives\n",
    "1. Analyze the data & derive the public's sentiment (positive, neutral or negative) for our client\n",
    "2. Build a model that can classify raw tweets into the three sentiment classes for future use\n",
    "3. Visualize the top drivers for each sentiment category to help management target service delivery improvement\n",
    "4. Create a chatbot to monitor customer feedback on X that provides realtime responses to customers"
   ]
  },
  {
   "cell_type": "markdown",
   "metadata": {},
   "source": [
    "# 1.4 Research questions"
   ]
  },
  {
   "cell_type": "markdown",
   "metadata": {},
   "source": [
    "The project will be answer the below research questions:\n",
    "1. What are the predominant sentiments expressed by passengers on X regarding major U.S. airlines?\n",
    "2. What are the most common reasons for positive, neutral and negative sentiments among airline passengers, as expressed in their tweets?\n",
    "3. Are there specific times of the year when sentiment toward airlines is more positive or negative?\n",
    "4. How does the sentiment compare between the various airlines in our dataset (highest positive, negative, neutral)?"
   ]
  },
  {
   "cell_type": "markdown",
   "metadata": {},
   "source": [
    "# 1.5 Data overview"
   ]
  },
  {
   "cell_type": "markdown",
   "metadata": {},
   "source": [
    "Our dataset was publicly sourced from crowdflower website and is made up of Twitter users' tweets and retweets.\n",
    "The dataset has 14,640 rows and 20 columns.\n",
    "This Twitter data was collected from February 2015 and contributors were engaged in classifying tweets into categories of positive, negative, and neutral sentiments. Additionally, contributors were tasked with categorizing the reasons behind negative sentiments, such as \"late flight\" or \"rude service.\"\n",
    "\n",
    "This dataset serves as the foundation for our analysis, enabling us to gain insights into passenger & general public sentiments, engagement patterns, and other trends within the US airline industry.\n",
    "\n",
    "[Link to the Data Source](https://data.world/crowdflower/airline-twitter-sentiment/) "
   ]
  },
  {
   "cell_type": "markdown",
   "metadata": {},
   "source": [
    "# 1.6 Project approach"
   ]
  },
  {
   "cell_type": "markdown",
   "metadata": {},
   "source": [
    "1. Exploratory data analysis & data cleaning (including categorical variable encoding, feature engineering)\n",
    "2. Data preprocessing for NLP (preparing text for sentiment scoring)\n",
    "3. Data labelling & determining labelling accuracy\n",
    "3. Sentiment analysis\n",
    "4. Visualization of sentiment analysis outcomes\n",
    "5. Prediction model building & validation\n",
    "6. Chatbot development\n",
    "7. Prediction model & chatbot deployment"
   ]
  },
  {
   "cell_type": "markdown",
   "metadata": {},
   "source": [
    "\n",
    "\n",
    "\n",
    "## Modeling\n",
    "\n",
    "For engagement prediction, we will build predictive models using the following steps:\n",
    "\n",
    "**Data Splitting:**\n",
    "   - Split the dataset into training and testing sets to evaluate model performance. We will also use a validation set (or cross-validation) in addition to a training set is to fine-tune model hyperparameters, assess model performance on unseen data, and avoid overfitting. \n",
    "\n",
    "**Regression Models:**\n",
    "   - Train and evaluate various regression models, including but not limited to:\n",
    "     - Logistic Regression\n",
    "     - Random Forest Regression\n",
    "     - Gradient Boosting Regression\n",
    "     - Support Vector Regression\n",
    "     - Neural Network Regression \n",
    "\n",
    "**Model Evaluation:**\n",
    "   - Evaluate the performance of each model using appropriate metrics such as:\n",
    "     - Mean Absolute Error (MAE)\n",
    "      By noting the average absolute error between the predicted engagement metrics (e.g., retweets   or likes) and the actual engagement metrics, we can have a straightforward measure of how far off our predictions are on average.\n",
    "\n",
    "     - Root Mean Square Error (RMSE): Lower RMSE values indicate better performance.\n",
    "  \n",
    "     - R-squared (R2) for goodness of fit\n",
    "      A higher R2 indicates a better fit, meaning that our features are better at explaining the variance in engagement.\n",
    "\n",
    "     - Cross-validation to assess model generalization\n",
    "      cross-validation scores (e.g., cross-validated MAE, RMSE, or R2) to assess how well your model generalizes to unseen data.\n",
    "\n",
    "     - Additional Metrics:\n",
    "      While these metrics provide valuable insights into our model's performance, it's essential to consider the accuracy of our sentiment analysis models as a fundamental measure. Accuracy measures the overall correctness of our model's predictions in classifying tweets into sentiment categories: positive, negative, or neutral.\n",
    "\n",
    "      For a deployable model, we aim to achieve an accuracy score within the range of 90% to 95%. This level of accuracy signifies a high degree of correctness in our predictions and is a strong indicator of the model's reliability in real-world applications.\n",
    "\n",
    "      Also we will consider other metrics, such as precision, recall, or F1-score, to evaluate the model's performance in more detail. \n",
    "\n",
    "**Hyperparameter Tuning:**\n",
    "   - Fine-tune the hyperparameters of the best-performing models using techniques like grid search or random search.\n",
    "\n",
    "**Ensemble Modeling:**\n",
    "   - Consider ensemble methods such as stacking or bagging to improve predictive accuracy.\n",
    "\n",
    "**Model Selection:**\n",
    "   - Select the model(s) that demonstrate the best performance on the evaluation metrics.\n",
    "\n",
    "\n",
    "## Chatbot Development\n",
    "* It will deploy NLP Factors into it to Create separate response templates or messages for positive, negative, and neutral sentiments. These can be predefined messages or more dynamic responses generated by the chatbot. Sentiment-Based Routing:\n",
    "\n",
    "* Develop a logic for routing tweets to the appropriate response based on their sentiment. You can use if-else conditions or switch statements for this purpose.\n",
    "  \n",
    "* For example, if a tweet is classified as \"positive,\" the chatbot responds with a message designed to encourage positive sentiment, while a \"negative\" tweet may receive a message that expresses empathy and offers assistance. For \"neutral\" tweets, you can provide a generic acknowledgment.\n",
    "\n",
    "## Natural Language Understanding (NLU)\n",
    "\n",
    "* Implement natural language understanding to extract key information or context from user tweets. This can help the chatbot provide more relevant and personalized responses.\n",
    "* Use NLU to understand the user's request or sentiment more deeply. For instance, if a user expresses frustration about a delayed flight, the chatbot can identify the issue and respond accordingly.\n",
    "\n",
    "### Testing and Training \n",
    "\n",
    "* Train your chatbot using your predefined response templates and a diverse set of sample tweets to ensure it responds appropriately to different expressions of sentiment.\n",
    "  \n",
    "* Test the chatbot rigorously to identify and correct any issues or inaccuracies in sentiment classification and response generation.\n",
    "\n",
    "### Integration with User Interface\n",
    "\n",
    "* Integrate the chatbot into our API and user interface, whether it's a web application.\n",
    "* Implement a user-friendly interface for users to input their tweets or questions to the chatbot.\n",
    "\n",
    "### Scale and Deploy\n",
    "\n",
    "Once you are satisfied with the chatbot's performance, deploy it ensuring it can handle large volumes of data.\n",
    "\n",
    "* For model deployment, we've chosen to employ Pickle due to its simplicity and efficiency. Once our NLP data science project is complete and our models are trained, we'll serialize these models into Pickle files. \n",
    "  \n",
    "* This serialization process ensures that the models can be easily transferred and loaded into production environments. With Pickle, making predictions on new data becomes a straightforward task, allowing for seamless integration into the airline company's operations.\n",
    "\n",
    "## Scaling for Other Airlines:\n",
    "* Our project isn't limited to just one airline; it can be readily scaled for use by multiple airlines. This scalability stems from the project's customization capabilities. Each airline can tailor the sentiment analysis and engagement prediction models to suit their unique brand and customer base, ensuring that insights generated are highly relevant. \n",
    "  \n",
    "* Airlines can integrate their own customer feedback and social media data into the project, thus benefiting from the same advanced sentiment analysis and engagement prediction features. This collaborative approach promotes industry-wide improvements in customer engagement and satisfaction.\n"
   ]
  },
  {
   "cell_type": "markdown",
   "metadata": {},
   "source": [
    "# 2.0 Exploratory data analysis "
   ]
  },
  {
   "cell_type": "code",
   "execution_count": 21,
   "metadata": {},
   "outputs": [
    {
     "name": "stderr",
     "output_type": "stream",
     "text": [
      "[nltk_data] Downloading package stopwords to\n",
      "[nltk_data]     C:\\Users\\muchi\\AppData\\Roaming\\nltk_data...\n",
      "[nltk_data]   Package stopwords is already up-to-date!\n",
      "[nltk_data] Downloading package wordnet to\n",
      "[nltk_data]     C:\\Users\\muchi\\AppData\\Roaming\\nltk_data...\n"
     ]
    },
    {
     "data": {
      "text/plain": [
       "True"
      ]
     },
     "execution_count": 21,
     "metadata": {},
     "output_type": "execute_result"
    }
   ],
   "source": [
    "## Step 1: Importing Necessary Libraries\n",
    "# data manipulation and analysis\n",
    "import pandas as pd\n",
    "import numpy as np\n",
    "from collections import defaultdict\n",
    "\n",
    "# Data visualization\n",
    "import matplotlib.pyplot as plt\n",
    "import seaborn as sns\n",
    "\n",
    "# Natural language processing (NLP)\n",
    "import html\n",
    "import re\n",
    "import nltk\n",
    "from nltk.corpus import stopwords\n",
    "from nltk.corpus import wordnet\n",
    "from nltk.stem import WordNetLemmatizer\n",
    "from nltk.tokenize import word_tokenize, regexp_tokenize, RegexpTokenizer\n",
    "from nltk import pos_tag\n",
    "from nltk.stem import WordNetLemmatizer\n",
    "from nltk.probability import FreqDist\n",
    "\n",
    "# Machine learning\n",
    "from sklearn.model_selection import train_test_split\n",
    "from sklearn.feature_extraction.text import TfidfVectorizer, CountVectorizer\n",
    "from sklearn.ensemble import RandomForestClassifier\n",
    "from sklearn.naive_bayes import MultinomialNB\n",
    "from sklearn.metrics import accuracy_score, precision_score, confusion_matrix\n",
    "from sklearn.linear_model import LogisticRegression\n",
    "from sklearn.svm import SVC\n",
    "from sklearn.metrics import classification_report, f1_score\n",
    "from sklearn.model_selection import GridSearchCV\n",
    "\n",
    "# Deep learning imports \n",
    "import tensorflow as tf\n",
    "from tensorflow.keras.models import Sequential\n",
    "from tensorflow.keras.layers import Embedding, LSTM, Dense, Dropout\n",
    "\n",
    "\n",
    "# Set the style for data visualization\n",
    "sns.set(style='darkgrid')\n",
    "\n",
    "# NLP packages downloads.\n",
    "nltk.download('stopwords')\n",
    "nltk.download('wordnet')"
   ]
  },
  {
   "cell_type": "code",
   "execution_count": 2,
   "metadata": {},
   "outputs": [],
   "source": [
    "# loading the data into a dataframe\n",
    "data = pd.read_csv(\"Airline-Sentiment-2-w-AA.csv\", encoding='latin 1')"
   ]
  },
  {
   "cell_type": "code",
   "execution_count": 3,
   "metadata": {},
   "outputs": [
    {
     "data": {
      "text/html": [
       "<div>\n",
       "<style scoped>\n",
       "    .dataframe tbody tr th:only-of-type {\n",
       "        vertical-align: middle;\n",
       "    }\n",
       "\n",
       "    .dataframe tbody tr th {\n",
       "        vertical-align: top;\n",
       "    }\n",
       "\n",
       "    .dataframe thead th {\n",
       "        text-align: right;\n",
       "    }\n",
       "</style>\n",
       "<table border=\"1\" class=\"dataframe\">\n",
       "  <thead>\n",
       "    <tr style=\"text-align: right;\">\n",
       "      <th></th>\n",
       "      <th>_unit_id</th>\n",
       "      <th>_golden</th>\n",
       "      <th>_unit_state</th>\n",
       "      <th>_trusted_judgments</th>\n",
       "      <th>_last_judgment_at</th>\n",
       "      <th>airline_sentiment</th>\n",
       "      <th>airline_sentiment:confidence</th>\n",
       "      <th>negativereason</th>\n",
       "      <th>negativereason:confidence</th>\n",
       "      <th>airline</th>\n",
       "      <th>airline_sentiment_gold</th>\n",
       "      <th>name</th>\n",
       "      <th>negativereason_gold</th>\n",
       "      <th>retweet_count</th>\n",
       "      <th>text</th>\n",
       "      <th>tweet_coord</th>\n",
       "      <th>tweet_created</th>\n",
       "      <th>tweet_id</th>\n",
       "      <th>tweet_location</th>\n",
       "      <th>user_timezone</th>\n",
       "    </tr>\n",
       "  </thead>\n",
       "  <tbody>\n",
       "    <tr>\n",
       "      <th>0</th>\n",
       "      <td>681448150</td>\n",
       "      <td>False</td>\n",
       "      <td>finalized</td>\n",
       "      <td>3</td>\n",
       "      <td>2/25/15 5:24</td>\n",
       "      <td>neutral</td>\n",
       "      <td>1.0000</td>\n",
       "      <td>NaN</td>\n",
       "      <td>NaN</td>\n",
       "      <td>Virgin America</td>\n",
       "      <td>NaN</td>\n",
       "      <td>cairdin</td>\n",
       "      <td>NaN</td>\n",
       "      <td>0</td>\n",
       "      <td>@VirginAmerica What @dhepburn said.</td>\n",
       "      <td>NaN</td>\n",
       "      <td>2/24/15 11:35</td>\n",
       "      <td>5.703060e+17</td>\n",
       "      <td>NaN</td>\n",
       "      <td>Eastern Time (US &amp; Canada)</td>\n",
       "    </tr>\n",
       "    <tr>\n",
       "      <th>1</th>\n",
       "      <td>681448153</td>\n",
       "      <td>False</td>\n",
       "      <td>finalized</td>\n",
       "      <td>3</td>\n",
       "      <td>2/25/15 1:53</td>\n",
       "      <td>positive</td>\n",
       "      <td>0.3486</td>\n",
       "      <td>NaN</td>\n",
       "      <td>0.0000</td>\n",
       "      <td>Virgin America</td>\n",
       "      <td>NaN</td>\n",
       "      <td>jnardino</td>\n",
       "      <td>NaN</td>\n",
       "      <td>0</td>\n",
       "      <td>@VirginAmerica plus you've added commercials t...</td>\n",
       "      <td>NaN</td>\n",
       "      <td>2/24/15 11:15</td>\n",
       "      <td>5.703010e+17</td>\n",
       "      <td>NaN</td>\n",
       "      <td>Pacific Time (US &amp; Canada)</td>\n",
       "    </tr>\n",
       "    <tr>\n",
       "      <th>2</th>\n",
       "      <td>681448156</td>\n",
       "      <td>False</td>\n",
       "      <td>finalized</td>\n",
       "      <td>3</td>\n",
       "      <td>2/25/15 10:01</td>\n",
       "      <td>neutral</td>\n",
       "      <td>0.6837</td>\n",
       "      <td>NaN</td>\n",
       "      <td>NaN</td>\n",
       "      <td>Virgin America</td>\n",
       "      <td>NaN</td>\n",
       "      <td>yvonnalynn</td>\n",
       "      <td>NaN</td>\n",
       "      <td>0</td>\n",
       "      <td>@VirginAmerica I didn't today... Must mean I n...</td>\n",
       "      <td>NaN</td>\n",
       "      <td>2/24/15 11:15</td>\n",
       "      <td>5.703010e+17</td>\n",
       "      <td>Lets Play</td>\n",
       "      <td>Central Time (US &amp; Canada)</td>\n",
       "    </tr>\n",
       "    <tr>\n",
       "      <th>3</th>\n",
       "      <td>681448158</td>\n",
       "      <td>False</td>\n",
       "      <td>finalized</td>\n",
       "      <td>3</td>\n",
       "      <td>2/25/15 3:05</td>\n",
       "      <td>negative</td>\n",
       "      <td>1.0000</td>\n",
       "      <td>Bad Flight</td>\n",
       "      <td>0.7033</td>\n",
       "      <td>Virgin America</td>\n",
       "      <td>NaN</td>\n",
       "      <td>jnardino</td>\n",
       "      <td>NaN</td>\n",
       "      <td>0</td>\n",
       "      <td>@VirginAmerica it's really aggressive to blast...</td>\n",
       "      <td>NaN</td>\n",
       "      <td>2/24/15 11:15</td>\n",
       "      <td>5.703010e+17</td>\n",
       "      <td>NaN</td>\n",
       "      <td>Pacific Time (US &amp; Canada)</td>\n",
       "    </tr>\n",
       "    <tr>\n",
       "      <th>4</th>\n",
       "      <td>681448159</td>\n",
       "      <td>False</td>\n",
       "      <td>finalized</td>\n",
       "      <td>3</td>\n",
       "      <td>2/25/15 5:50</td>\n",
       "      <td>negative</td>\n",
       "      <td>1.0000</td>\n",
       "      <td>Can't Tell</td>\n",
       "      <td>1.0000</td>\n",
       "      <td>Virgin America</td>\n",
       "      <td>NaN</td>\n",
       "      <td>jnardino</td>\n",
       "      <td>NaN</td>\n",
       "      <td>0</td>\n",
       "      <td>@VirginAmerica and it's a really big bad thing...</td>\n",
       "      <td>NaN</td>\n",
       "      <td>2/24/15 11:14</td>\n",
       "      <td>5.703010e+17</td>\n",
       "      <td>NaN</td>\n",
       "      <td>Pacific Time (US &amp; Canada)</td>\n",
       "    </tr>\n",
       "  </tbody>\n",
       "</table>\n",
       "</div>"
      ],
      "text/plain": [
       "    _unit_id  _golden _unit_state  _trusted_judgments _last_judgment_at  \\\n",
       "0  681448150    False   finalized                   3      2/25/15 5:24   \n",
       "1  681448153    False   finalized                   3      2/25/15 1:53   \n",
       "2  681448156    False   finalized                   3     2/25/15 10:01   \n",
       "3  681448158    False   finalized                   3      2/25/15 3:05   \n",
       "4  681448159    False   finalized                   3      2/25/15 5:50   \n",
       "\n",
       "  airline_sentiment  airline_sentiment:confidence negativereason  \\\n",
       "0           neutral                        1.0000            NaN   \n",
       "1          positive                        0.3486            NaN   \n",
       "2           neutral                        0.6837            NaN   \n",
       "3          negative                        1.0000     Bad Flight   \n",
       "4          negative                        1.0000     Can't Tell   \n",
       "\n",
       "   negativereason:confidence         airline airline_sentiment_gold  \\\n",
       "0                        NaN  Virgin America                    NaN   \n",
       "1                     0.0000  Virgin America                    NaN   \n",
       "2                        NaN  Virgin America                    NaN   \n",
       "3                     0.7033  Virgin America                    NaN   \n",
       "4                     1.0000  Virgin America                    NaN   \n",
       "\n",
       "         name negativereason_gold  retweet_count  \\\n",
       "0     cairdin                 NaN              0   \n",
       "1    jnardino                 NaN              0   \n",
       "2  yvonnalynn                 NaN              0   \n",
       "3    jnardino                 NaN              0   \n",
       "4    jnardino                 NaN              0   \n",
       "\n",
       "                                                text tweet_coord  \\\n",
       "0                @VirginAmerica What @dhepburn said.         NaN   \n",
       "1  @VirginAmerica plus you've added commercials t...         NaN   \n",
       "2  @VirginAmerica I didn't today... Must mean I n...         NaN   \n",
       "3  @VirginAmerica it's really aggressive to blast...         NaN   \n",
       "4  @VirginAmerica and it's a really big bad thing...         NaN   \n",
       "\n",
       "   tweet_created      tweet_id tweet_location               user_timezone  \n",
       "0  2/24/15 11:35  5.703060e+17            NaN  Eastern Time (US & Canada)  \n",
       "1  2/24/15 11:15  5.703010e+17            NaN  Pacific Time (US & Canada)  \n",
       "2  2/24/15 11:15  5.703010e+17      Lets Play  Central Time (US & Canada)  \n",
       "3  2/24/15 11:15  5.703010e+17            NaN  Pacific Time (US & Canada)  \n",
       "4  2/24/15 11:14  5.703010e+17            NaN  Pacific Time (US & Canada)  "
      ]
     },
     "execution_count": 3,
     "metadata": {},
     "output_type": "execute_result"
    }
   ],
   "source": [
    "data.head()\n"
   ]
  },
  {
   "cell_type": "code",
   "execution_count": 4,
   "metadata": {},
   "outputs": [
    {
     "name": "stdout",
     "output_type": "stream",
     "text": [
      "<class 'pandas.core.frame.DataFrame'>\n",
      "RangeIndex: 14640 entries, 0 to 14639\n",
      "Data columns (total 20 columns):\n",
      " #   Column                        Non-Null Count  Dtype  \n",
      "---  ------                        --------------  -----  \n",
      " 0   _unit_id                      14640 non-null  int64  \n",
      " 1   _golden                       14640 non-null  bool   \n",
      " 2   _unit_state                   14640 non-null  object \n",
      " 3   _trusted_judgments            14640 non-null  int64  \n",
      " 4   _last_judgment_at             14584 non-null  object \n",
      " 5   airline_sentiment             14640 non-null  object \n",
      " 6   airline_sentiment:confidence  14640 non-null  float64\n",
      " 7   negativereason                9178 non-null   object \n",
      " 8   negativereason:confidence     10522 non-null  float64\n",
      " 9   airline                       14640 non-null  object \n",
      " 10  airline_sentiment_gold        40 non-null     object \n",
      " 11  name                          14640 non-null  object \n",
      " 12  negativereason_gold           32 non-null     object \n",
      " 13  retweet_count                 14640 non-null  int64  \n",
      " 14  text                          14640 non-null  object \n",
      " 15  tweet_coord                   1019 non-null   object \n",
      " 16  tweet_created                 14640 non-null  object \n",
      " 17  tweet_id                      14640 non-null  float64\n",
      " 18  tweet_location                9907 non-null   object \n",
      " 19  user_timezone                 9820 non-null   object \n",
      "dtypes: bool(1), float64(3), int64(3), object(13)\n",
      "memory usage: 2.1+ MB\n"
     ]
    }
   ],
   "source": [
    "data.info()"
   ]
  },
  {
   "cell_type": "code",
   "execution_count": 5,
   "metadata": {},
   "outputs": [
    {
     "data": {
      "text/html": [
       "<div>\n",
       "<style scoped>\n",
       "    .dataframe tbody tr th:only-of-type {\n",
       "        vertical-align: middle;\n",
       "    }\n",
       "\n",
       "    .dataframe tbody tr th {\n",
       "        vertical-align: top;\n",
       "    }\n",
       "\n",
       "    .dataframe thead th {\n",
       "        text-align: right;\n",
       "    }\n",
       "</style>\n",
       "<table border=\"1\" class=\"dataframe\">\n",
       "  <thead>\n",
       "    <tr style=\"text-align: right;\">\n",
       "      <th></th>\n",
       "      <th>_unit_id</th>\n",
       "      <th>_trusted_judgments</th>\n",
       "      <th>airline_sentiment:confidence</th>\n",
       "      <th>negativereason:confidence</th>\n",
       "      <th>retweet_count</th>\n",
       "      <th>tweet_id</th>\n",
       "    </tr>\n",
       "  </thead>\n",
       "  <tbody>\n",
       "    <tr>\n",
       "      <th>count</th>\n",
       "      <td>1.464000e+04</td>\n",
       "      <td>14640.000000</td>\n",
       "      <td>14640.000000</td>\n",
       "      <td>10522.000000</td>\n",
       "      <td>14640.000000</td>\n",
       "      <td>1.464000e+04</td>\n",
       "    </tr>\n",
       "    <tr>\n",
       "      <th>mean</th>\n",
       "      <td>6.814957e+08</td>\n",
       "      <td>3.618648</td>\n",
       "      <td>0.900169</td>\n",
       "      <td>0.638298</td>\n",
       "      <td>0.082650</td>\n",
       "      <td>5.692184e+17</td>\n",
       "    </tr>\n",
       "    <tr>\n",
       "      <th>std</th>\n",
       "      <td>8.504314e+04</td>\n",
       "      <td>11.858704</td>\n",
       "      <td>0.162830</td>\n",
       "      <td>0.330440</td>\n",
       "      <td>0.745778</td>\n",
       "      <td>7.791092e+14</td>\n",
       "    </tr>\n",
       "    <tr>\n",
       "      <th>min</th>\n",
       "      <td>6.814482e+08</td>\n",
       "      <td>2.000000</td>\n",
       "      <td>0.335000</td>\n",
       "      <td>0.000000</td>\n",
       "      <td>0.000000</td>\n",
       "      <td>5.675880e+17</td>\n",
       "    </tr>\n",
       "    <tr>\n",
       "      <th>25%</th>\n",
       "      <td>6.814536e+08</td>\n",
       "      <td>3.000000</td>\n",
       "      <td>0.692300</td>\n",
       "      <td>0.360600</td>\n",
       "      <td>0.000000</td>\n",
       "      <td>5.685590e+17</td>\n",
       "    </tr>\n",
       "    <tr>\n",
       "      <th>50%</th>\n",
       "      <td>6.814578e+08</td>\n",
       "      <td>3.000000</td>\n",
       "      <td>1.000000</td>\n",
       "      <td>0.670600</td>\n",
       "      <td>0.000000</td>\n",
       "      <td>5.694780e+17</td>\n",
       "    </tr>\n",
       "    <tr>\n",
       "      <th>75%</th>\n",
       "      <td>6.814623e+08</td>\n",
       "      <td>3.000000</td>\n",
       "      <td>1.000000</td>\n",
       "      <td>1.000000</td>\n",
       "      <td>0.000000</td>\n",
       "      <td>5.698902e+17</td>\n",
       "    </tr>\n",
       "    <tr>\n",
       "      <th>max</th>\n",
       "      <td>6.816798e+08</td>\n",
       "      <td>248.000000</td>\n",
       "      <td>1.000000</td>\n",
       "      <td>1.000000</td>\n",
       "      <td>44.000000</td>\n",
       "      <td>5.703110e+17</td>\n",
       "    </tr>\n",
       "  </tbody>\n",
       "</table>\n",
       "</div>"
      ],
      "text/plain": [
       "           _unit_id  _trusted_judgments  airline_sentiment:confidence  \\\n",
       "count  1.464000e+04        14640.000000                  14640.000000   \n",
       "mean   6.814957e+08            3.618648                      0.900169   \n",
       "std    8.504314e+04           11.858704                      0.162830   \n",
       "min    6.814482e+08            2.000000                      0.335000   \n",
       "25%    6.814536e+08            3.000000                      0.692300   \n",
       "50%    6.814578e+08            3.000000                      1.000000   \n",
       "75%    6.814623e+08            3.000000                      1.000000   \n",
       "max    6.816798e+08          248.000000                      1.000000   \n",
       "\n",
       "       negativereason:confidence  retweet_count      tweet_id  \n",
       "count               10522.000000   14640.000000  1.464000e+04  \n",
       "mean                    0.638298       0.082650  5.692184e+17  \n",
       "std                     0.330440       0.745778  7.791092e+14  \n",
       "min                     0.000000       0.000000  5.675880e+17  \n",
       "25%                     0.360600       0.000000  5.685590e+17  \n",
       "50%                     0.670600       0.000000  5.694780e+17  \n",
       "75%                     1.000000       0.000000  5.698902e+17  \n",
       "max                     1.000000      44.000000  5.703110e+17  "
      ]
     },
     "execution_count": 5,
     "metadata": {},
     "output_type": "execute_result"
    }
   ],
   "source": [
    "data.describe()"
   ]
  },
  {
   "cell_type": "markdown",
   "metadata": {},
   "source": [
    "***\n",
    "The dataset contains 14,640 entries and 20 columns. Here's a brief description of the dataset's contents and the significance of each column:\n",
    "\n",
    "- `_unit_id`: A unique identifier for each data unit.\n",
    "- `_golden`: A boolean value indicating whether the entry is a golden unit in the dataset.\n",
    "- `_unit_state`: The state of the unit (e.g., golden).\n",
    "- `_trusted_judgments`: The number of trusted judgments for the entry.\n",
    "- `_last_judgment_at`: Timestamp of the last judgment for the entry.\n",
    "- `airline_sentiment`: The target variable, which represents the sentiment of the airline tweet (positive, negative, or neutral).\n",
    "- `airline_sentiment:confidence`: The confidence level associated with the airline sentiment.\n",
    "- `negativereason`: The reason for negative sentiment in the tweet.\n",
    "- `negativereason:confidence`: The confidence level associated with the negative sentiment reason.\n",
    "- `airline`: The airline associated with the tweet.\n",
    "- `airline_sentiment_gold`: Additional information about airline sentiment (gold standard).\n",
    "- `name`: The name of the user who posted the tweet.\n",
    "- `negativereason_gold`: Additional information about the negative sentiment reason (gold standard).\n",
    "- `retweet_count`: The number of retweets for the tweet.\n",
    "- `text`: The text content of the tweet.\n",
    "- `tweet_coord`: Coordinates of the tweet (if available).\n",
    "- `tweet_created`: Timestamp of when the tweet was created.\n",
    "- `tweet_id`: The unique identifier of the tweet.\n",
    "- `tweet_location`: The location associated with the tweet (if provided).\n",
    "- `user_timezone`: The timezone of the user who posted the tweet.\n",
    "\n",
    "In this dataset, the `airline_sentiment` column is the target variable, which represents the sentiment of the airline tweet that we may want to predict or analyze. The other columns, such as `text`, `airline`, and `retweet_count`, can be used as features for sentiment analysis, engagement prediction, and language/location analysis.\n",
    "***\n"
   ]
  },
  {
   "cell_type": "code",
   "execution_count": 6,
   "metadata": {},
   "outputs": [
    {
     "name": "stdout",
     "output_type": "stream",
     "text": [
      "0                      @VirginAmerica What @dhepburn said.\n",
      "1        @VirginAmerica plus you've added commercials t...\n",
      "2        @VirginAmerica I didn't today... Must mean I n...\n",
      "3        @VirginAmerica it's really aggressive to blast...\n",
      "4        @VirginAmerica and it's a really big bad thing...\n",
      "                               ...                        \n",
      "14635    @AmericanAir thank you we got on a different f...\n",
      "14636    @AmericanAir leaving over 20 minutes Late Flig...\n",
      "14637    @AmericanAir Please bring American Airlines to...\n",
      "14638    @AmericanAir you have my money, you change my ...\n",
      "14639    @AmericanAir we have 8 ppl so we need 2 know h...\n",
      "Name: text, Length: 14640, dtype: object\n"
     ]
    }
   ],
   "source": [
    "# Display the 'text' column\n",
    "text_column = data['text']\n",
    "print(text_column)"
   ]
  },
  {
   "cell_type": "code",
   "execution_count": 7,
   "metadata": {},
   "outputs": [
    {
     "data": {
      "text/plain": [
       "United            3822\n",
       "US Airways        2913\n",
       "American          2759\n",
       "Southwest         2420\n",
       "Delta             2222\n",
       "Virgin America     504\n",
       "Name: airline, dtype: int64"
      ]
     },
     "execution_count": 7,
     "metadata": {},
     "output_type": "execute_result"
    }
   ],
   "source": [
    "# Check distribution of airlines\n",
    "data['airline'].value_counts()\n"
   ]
  },
  {
   "cell_type": "code",
   "execution_count": 8,
   "metadata": {},
   "outputs": [
    {
     "data": {
      "image/png": "[encoded data removed]",
      "text/plain": [
       "<Figure size 800x600 with 1 Axes>"
      ]
     },
     "metadata": {},
     "output_type": "display_data"
    }
   ],
   "source": [
    "# Create a countplot\n",
    "plt.figure(figsize=(8, 6))\n",
    "sns.set(style=\"darkgrid\")\n",
    "sns.countplot(data=data, x='airline', palette='viridis')\n",
    "\n",
    "# Set labels and title\n",
    "plt.xlabel('Airline')\n",
    "plt.ylabel('Count')\n",
    "plt.title('Distribution of Airlines')\n",
    "\n",
    "# Show the plot\n",
    "plt.show()"
   ]
  },
  {
   "cell_type": "markdown",
   "metadata": {},
   "source": [
    "**text:** The text content of the tweet is one of the most critical features for sentiment analysis. It contains the actual user-generated content that you can analyze for sentiment.\n",
    "\n",
    "**airline:** The airline associated with the tweet is essential because sentiment can vary depending on the airline. It's a categorical feature that can be one-hot encoded for model training.\n",
    "\n",
    "**negativereason:** If available, the reason for negative sentiment can provide valuable information for understanding why users are expressing negative sentiment towards an airline.\n",
    "\n",
    "**user_timezone:** The timezone of the user who posted the tweet might be relevant because sentiment can vary by geographic region and time of day.\n",
    "\n",
    "**retweet_count:** The number of retweets can be an indicator of the tweet's popularity or how strongly the sentiment is resonating with others. It can serve as a feature to capture engagement.\n",
    "\n",
    "**tweet_location:** The location associated with the tweet might provide insights into regional sentiment variations.\n",
    "\n",
    "**tweet_created:** The timestamp of when the tweet was created can be used for time-based analysis, such as sentiment trends over time."
   ]
  },
  {
   "cell_type": "markdown",
   "metadata": {},
   "source": [
    "## Data Preprocessing "
   ]
  },
  {
   "cell_type": "code",
   "execution_count": 9,
   "metadata": {},
   "outputs": [
    {
     "data": {
      "text/plain": [
       "_unit_id                            0\n",
       "_golden                             0\n",
       "_unit_state                         0\n",
       "_trusted_judgments                  0\n",
       "_last_judgment_at                  56\n",
       "airline_sentiment                   0\n",
       "airline_sentiment:confidence        0\n",
       "negativereason                   5462\n",
       "negativereason:confidence        4118\n",
       "airline                             0\n",
       "airline_sentiment_gold          14600\n",
       "name                                0\n",
       "negativereason_gold             14608\n",
       "retweet_count                       0\n",
       "text                                0\n",
       "tweet_coord                     13621\n",
       "tweet_created                       0\n",
       "tweet_id                            0\n",
       "tweet_location                   4733\n",
       "user_timezone                    4820\n",
       "dtype: int64"
      ]
     },
     "execution_count": 9,
     "metadata": {},
     "output_type": "execute_result"
    }
   ],
   "source": [
    "missing_vals = data.isnull().sum()\n",
    "missing_vals"
   ]
  },
  {
   "cell_type": "code",
   "execution_count": 10,
   "metadata": {},
   "outputs": [],
   "source": [
    "# Selection of relevant features\n",
    "selected_columns = [\"_trusted_judgments\", \"_last_judgment_at\",\n",
    "                    \"airline_sentiment\", \"airline_sentiment:confidence\", \"negativereason\",\n",
    "                    \"negativereason:confidence\", \"airline\", \"retweet_count\", \"text\", \"tweet_created\",\n",
    "                    \"tweet_location\", \"user_timezone\"]"
   ]
  },
  {
   "cell_type": "code",
   "execution_count": 11,
   "metadata": {},
   "outputs": [
    {
     "data": {
      "text/html": [
       "<div>\n",
       "<style scoped>\n",
       "    .dataframe tbody tr th:only-of-type {\n",
       "        vertical-align: middle;\n",
       "    }\n",
       "\n",
       "    .dataframe tbody tr th {\n",
       "        vertical-align: top;\n",
       "    }\n",
       "\n",
       "    .dataframe thead th {\n",
       "        text-align: right;\n",
       "    }\n",
       "</style>\n",
       "<table border=\"1\" class=\"dataframe\">\n",
       "  <thead>\n",
       "    <tr style=\"text-align: right;\">\n",
       "      <th></th>\n",
       "      <th>_trusted_judgments</th>\n",
       "      <th>_last_judgment_at</th>\n",
       "      <th>airline_sentiment</th>\n",
       "      <th>airline_sentiment:confidence</th>\n",
       "      <th>negativereason</th>\n",
       "      <th>negativereason:confidence</th>\n",
       "      <th>airline</th>\n",
       "      <th>retweet_count</th>\n",
       "      <th>text</th>\n",
       "      <th>tweet_created</th>\n",
       "      <th>tweet_location</th>\n",
       "      <th>user_timezone</th>\n",
       "    </tr>\n",
       "  </thead>\n",
       "  <tbody>\n",
       "    <tr>\n",
       "      <th>0</th>\n",
       "      <td>3</td>\n",
       "      <td>2/25/15 5:24</td>\n",
       "      <td>neutral</td>\n",
       "      <td>1.0000</td>\n",
       "      <td>NaN</td>\n",
       "      <td>NaN</td>\n",
       "      <td>Virgin America</td>\n",
       "      <td>0</td>\n",
       "      <td>@VirginAmerica What @dhepburn said.</td>\n",
       "      <td>2/24/15 11:35</td>\n",
       "      <td>NaN</td>\n",
       "      <td>Eastern Time (US &amp; Canada)</td>\n",
       "    </tr>\n",
       "    <tr>\n",
       "      <th>1</th>\n",
       "      <td>3</td>\n",
       "      <td>2/25/15 1:53</td>\n",
       "      <td>positive</td>\n",
       "      <td>0.3486</td>\n",
       "      <td>NaN</td>\n",
       "      <td>0.0000</td>\n",
       "      <td>Virgin America</td>\n",
       "      <td>0</td>\n",
       "      <td>@VirginAmerica plus you've added commercials t...</td>\n",
       "      <td>2/24/15 11:15</td>\n",
       "      <td>NaN</td>\n",
       "      <td>Pacific Time (US &amp; Canada)</td>\n",
       "    </tr>\n",
       "    <tr>\n",
       "      <th>2</th>\n",
       "      <td>3</td>\n",
       "      <td>2/25/15 10:01</td>\n",
       "      <td>neutral</td>\n",
       "      <td>0.6837</td>\n",
       "      <td>NaN</td>\n",
       "      <td>NaN</td>\n",
       "      <td>Virgin America</td>\n",
       "      <td>0</td>\n",
       "      <td>@VirginAmerica I didn't today... Must mean I n...</td>\n",
       "      <td>2/24/15 11:15</td>\n",
       "      <td>Lets Play</td>\n",
       "      <td>Central Time (US &amp; Canada)</td>\n",
       "    </tr>\n",
       "    <tr>\n",
       "      <th>3</th>\n",
       "      <td>3</td>\n",
       "      <td>2/25/15 3:05</td>\n",
       "      <td>negative</td>\n",
       "      <td>1.0000</td>\n",
       "      <td>Bad Flight</td>\n",
       "      <td>0.7033</td>\n",
       "      <td>Virgin America</td>\n",
       "      <td>0</td>\n",
       "      <td>@VirginAmerica it's really aggressive to blast...</td>\n",
       "      <td>2/24/15 11:15</td>\n",
       "      <td>NaN</td>\n",
       "      <td>Pacific Time (US &amp; Canada)</td>\n",
       "    </tr>\n",
       "    <tr>\n",
       "      <th>4</th>\n",
       "      <td>3</td>\n",
       "      <td>2/25/15 5:50</td>\n",
       "      <td>negative</td>\n",
       "      <td>1.0000</td>\n",
       "      <td>Can't Tell</td>\n",
       "      <td>1.0000</td>\n",
       "      <td>Virgin America</td>\n",
       "      <td>0</td>\n",
       "      <td>@VirginAmerica and it's a really big bad thing...</td>\n",
       "      <td>2/24/15 11:14</td>\n",
       "      <td>NaN</td>\n",
       "      <td>Pacific Time (US &amp; Canada)</td>\n",
       "    </tr>\n",
       "  </tbody>\n",
       "</table>\n",
       "</div>"
      ],
      "text/plain": [
       "   _trusted_judgments _last_judgment_at airline_sentiment  \\\n",
       "0                   3      2/25/15 5:24           neutral   \n",
       "1                   3      2/25/15 1:53          positive   \n",
       "2                   3     2/25/15 10:01           neutral   \n",
       "3                   3      2/25/15 3:05          negative   \n",
       "4                   3      2/25/15 5:50          negative   \n",
       "\n",
       "   airline_sentiment:confidence negativereason  negativereason:confidence  \\\n",
       "0                        1.0000            NaN                        NaN   \n",
       "1                        0.3486            NaN                     0.0000   \n",
       "2                        0.6837            NaN                        NaN   \n",
       "3                        1.0000     Bad Flight                     0.7033   \n",
       "4                        1.0000     Can't Tell                     1.0000   \n",
       "\n",
       "          airline  retweet_count  \\\n",
       "0  Virgin America              0   \n",
       "1  Virgin America              0   \n",
       "2  Virgin America              0   \n",
       "3  Virgin America              0   \n",
       "4  Virgin America              0   \n",
       "\n",
       "                                                text  tweet_created  \\\n",
       "0                @VirginAmerica What @dhepburn said.  2/24/15 11:35   \n",
       "1  @VirginAmerica plus you've added commercials t...  2/24/15 11:15   \n",
       "2  @VirginAmerica I didn't today... Must mean I n...  2/24/15 11:15   \n",
       "3  @VirginAmerica it's really aggressive to blast...  2/24/15 11:15   \n",
       "4  @VirginAmerica and it's a really big bad thing...  2/24/15 11:14   \n",
       "\n",
       "  tweet_location               user_timezone  \n",
       "0            NaN  Eastern Time (US & Canada)  \n",
       "1            NaN  Pacific Time (US & Canada)  \n",
       "2      Lets Play  Central Time (US & Canada)  \n",
       "3            NaN  Pacific Time (US & Canada)  \n",
       "4            NaN  Pacific Time (US & Canada)  "
      ]
     },
     "execution_count": 11,
     "metadata": {},
     "output_type": "execute_result"
    }
   ],
   "source": [
    "data = data[selected_columns]\n",
    "data.head()"
   ]
  },
  {
   "cell_type": "code",
   "execution_count": 12,
   "metadata": {},
   "outputs": [
    {
     "data": {
      "text/plain": [
       "_trusted_judgments                 0\n",
       "_last_judgment_at                 56\n",
       "airline_sentiment                  0\n",
       "airline_sentiment:confidence       0\n",
       "negativereason                  5462\n",
       "negativereason:confidence       4118\n",
       "airline                            0\n",
       "retweet_count                      0\n",
       "text                               0\n",
       "tweet_created                      0\n",
       "tweet_location                  4733\n",
       "user_timezone                   4820\n",
       "dtype: int64"
      ]
     },
     "execution_count": 12,
     "metadata": {},
     "output_type": "execute_result"
    }
   ],
   "source": [
    "data.isna().sum()"
   ]
  },
  {
   "cell_type": "markdown",
   "metadata": {},
   "source": [
    "### Imputing Missing Values"
   ]
  },
  {
   "cell_type": "markdown",
   "metadata": {},
   "source": [
    "    **_last_judgment_at:**\n",
    "Since _last_judgment_at is a timestamp, we impute missing values with the mode (most frequent) timestamp to maintain the distribution of values. "
   ]
  },
  {
   "cell_type": "code",
   "execution_count": 13,
   "metadata": {},
   "outputs": [],
   "source": [
    "data['_last_judgment_at'].fillna(data['_last_judgment_at'].mode()[0], inplace=True)\n"
   ]
  },
  {
   "cell_type": "markdown",
   "metadata": {},
   "source": [
    "    **negativereason and negativereason:confidence:**\n",
    "These columns are related to the reason for negative sentiment. We impute missing values with a placeholder, \"Not specified\" to indicate that the reason was not provided:"
   ]
  },
  {
   "cell_type": "code",
   "execution_count": 14,
   "metadata": {},
   "outputs": [],
   "source": [
    "data['negativereason'].fillna('Not specified', inplace=True)\n",
    "data['negativereason:confidence'].fillna('Not specified', inplace=True)\n"
   ]
  },
  {
   "cell_type": "markdown",
   "metadata": {},
   "source": [
    "    **tweet_location and user_timezone:**\n",
    "These columns represent user-provided data and may be critical for the analysis. We can impute missing values with \"Not Specific\" or \"Unknown\" to indicate that the information was not provided:"
   ]
  },
  {
   "cell_type": "code",
   "execution_count": 15,
   "metadata": {},
   "outputs": [],
   "source": [
    "data['tweet_location'].fillna('Not specified', inplace=True)\n",
    "data['user_timezone'].fillna('Unknown', inplace=True)\n"
   ]
  },
  {
   "cell_type": "code",
   "execution_count": 16,
   "metadata": {},
   "outputs": [
    {
     "data": {
      "text/plain": [
       "_trusted_judgments              0\n",
       "_last_judgment_at               0\n",
       "airline_sentiment               0\n",
       "airline_sentiment:confidence    0\n",
       "negativereason                  0\n",
       "negativereason:confidence       0\n",
       "airline                         0\n",
       "retweet_count                   0\n",
       "text                            0\n",
       "tweet_created                   0\n",
       "tweet_location                  0\n",
       "user_timezone                   0\n",
       "dtype: int64"
      ]
     },
     "execution_count": 16,
     "metadata": {},
     "output_type": "execute_result"
    }
   ],
   "source": [
    "data.isna().sum()"
   ]
  },
  {
   "cell_type": "markdown",
   "metadata": {},
   "source": [
    "## Text Preprocessing \n",
    "NLP, a subset of Data Science, focuses on working with text data. Text data, abundant alongside numerical data, plays a crucial role in solving various business problems. However, before utilizing this data for analysis or predictions, it requires preprocessing.\n",
    "\n",
    "Text preprocessing serves as the initial step in our NLP project and encompasses several key procedures:\n",
    "\n",
    "* Eliminating punctuation marks such as periods, commas, exclamation points, parentheses, asterisks, percentage signs, and at symbols. ‘!”#$%&'()*+,-./:;?@[\\]^_`{|}~’\n",
    "\n",
    "* Omitting URLs from the text.\n",
    "\n",
    "* Removing common stop words (e.g., \"the,\" \"and,\" \"is\") that do not carry significant meaning.\n",
    "\n",
    "* Converting all text to lowercase for consistency.\n",
    "\n",
    "* Tokenization, breaking the text into individual words or tokens.\n",
    "\n",
    "* Stemming, which reduces words to their root form, often by removing suffixes.\n",
    "\n",
    "* Lemmatization, a more sophisticated technique that reduces words to their base or dictionary form, considering context and meaning.\n",
    "\n",
    "These preprocessing steps help ensure that the text data is clean, structured, and ready for further analysis or modeling in NLP projects."
   ]
  },
  {
   "cell_type": "markdown",
   "metadata": {},
   "source": [
    "### Punctuation Removal\n",
    "As we can see in the below output, the text is lowered, while all the punctuations, urls, name tags, encoded characters and underscores are removed and stored in the cleaned_tweet column, as they provide no significant use to our tweet sentiment analysis. "
   ]
  },
  {
   "cell_type": "code",
   "execution_count": 17,
   "metadata": {},
   "outputs": [
    {
     "data": {
      "text/plain": [
       "0                                            what  said\n",
       "1      plus youve added commercials to the experienc...\n",
       "2      i didnt today must mean i need to take anothe...\n",
       "3      its really aggressive to blast obnoxious ente...\n",
       "4               and its a really big bad thing about it\n",
       "5      seriously would pay 30 a flight for seats tha...\n",
       "6      yes nearly every time i fly vx this ear worm ...\n",
       "7      really missed a prime opportunity for men wit...\n",
       "8                            well i didntbut now i do d\n",
       "9      it was amazing and arrived an hour early your...\n",
       "10     did you know that suicide is the second leadi...\n",
       "11     i lt3 pretty graphics so much better than min...\n",
       "12     this is such a great deal already thinking ab...\n",
       "13      im flying your fabulous seductive skies agai...\n",
       "14                                               thanks\n",
       "15                         sfopdx schedule is still mia\n",
       "16     so excited for my first cross country flight ...\n",
       "17      i flew from nyc to sfo last week and couldnt...\n",
       "18                                          i  flying  \n",
       "19     you know what would be amazingly awesome bosf...\n",
       "Name: cleaned_tweet, dtype: object"
      ]
     },
     "execution_count": 17,
     "metadata": {},
     "output_type": "execute_result"
    }
   ],
   "source": [
    "# A function to clean tweets by removing name tags, \n",
    "# punctuations, links, encoded characters, and underscores\n",
    "def clean_tweet(tweet):\n",
    "    \"\"\"Removes name tags, punctuations, links, encoded characters, and underscores.\"\"\"\n",
    "    \n",
    "     # Lowercase the tweet text\n",
    "    tweet = tweet.lower()\n",
    "    \n",
    "    # Defining a list of regex patterns and corresponding replacements\n",
    "    \n",
    "    patterns = [\n",
    "        (r'@\\w+', ''),              # Removing name tags\n",
    "        (r'[^\\w\\s]', ''),          # Removing punctuations\n",
    "        (r'http\\S+', ''),          # Removing links (http/https)\n",
    "        (r'[^\\x00-\\x7F]+', ''),    # Removing encoded characters\n",
    "        (r'_', ''),                # Removing underscores\n",
    "    ]\n",
    "    \n",
    "    # Applying regex substitutions sequentially\n",
    "    for pattern, replacement in patterns:\n",
    "        tweet = re.sub(pattern, replacement, tweet)\n",
    "    \n",
    "    # Decoding HTML entities\n",
    "    tweet = html.unescape(tweet)\n",
    "        \n",
    "    # Returning the cleaned tweet\n",
    "    return tweet\n",
    "\n",
    "# Applying the cleaning function to the 'text' column and create a new 'cleaned_tweet' column\n",
    "data['cleaned_tweet'] = data['text'].apply(clean_tweet)\n",
    "\n",
    "# Confirming the updated DataFrame\n",
    "data['cleaned_tweet'].head(20)"
   ]
  },
  {
   "cell_type": "markdown",
   "metadata": {},
   "source": [
    "## Tokenization\n",
    "In this step, the text is split into smaller units using word tokenization. It allows us to work with individual words as discrete units, making it easier to extract meaning and patterns from the text."
   ]
  },
  {
   "cell_type": "code",
   "execution_count": 18,
   "metadata": {},
   "outputs": [
    {
     "data": {
      "text/plain": [
       "0                                          [what, said]\n",
       "1     [plus, youve, added, commercials, to, the, exp...\n",
       "2     [i, didnt, today, must, mean, i, need, to, tak...\n",
       "3     [its, really, aggressive, to, blast, obnoxious...\n",
       "4     [and, its, a, really, big, bad, thing, about, it]\n",
       "5     [seriously, would, pay, 30, a, flight, for, se...\n",
       "6     [yes, nearly, every, time, i, fly, vx, this, e...\n",
       "7     [really, missed, a, prime, opportunity, for, m...\n",
       "8                    [well, i, didntbut, now, i, do, d]\n",
       "9     [it, was, amazing, and, arrived, an, hour, ear...\n",
       "10    [did, you, know, that, suicide, is, the, secon...\n",
       "11    [i, lt3, pretty, graphics, so, much, better, t...\n",
       "12    [this, is, such, a, great, deal, already, thin...\n",
       "13    [im, flying, your, fabulous, seductive, skies,...\n",
       "14                                             [thanks]\n",
       "15                   [sfopdx, schedule, is, still, mia]\n",
       "16    [so, excited, for, my, first, cross, country, ...\n",
       "17    [i, flew, from, nyc, to, sfo, last, week, and,...\n",
       "18                                          [i, flying]\n",
       "19    [you, know, what, would, be, amazingly, awesom...\n",
       "Name: cleaned_tweet, dtype: object"
      ]
     },
     "execution_count": 18,
     "metadata": {},
     "output_type": "execute_result"
    }
   ],
   "source": [
    "import nltk\n",
    "from nltk.tokenize import RegexpTokenizer\n",
    "\n",
    "\n",
    "\n",
    "# Define a function to tokenize text using a regular expression pattern\n",
    "def tokenize_with_regexp(text):\n",
    "    \n",
    "        # Define the regular expression pattern for tokenization\n",
    "    pattern = r'\\w+|\\$[\\d\\.]+|\\S+'\n",
    "        \n",
    "        # Create a RegexpTokenizer with the pattern\n",
    "    tokenizer = RegexpTokenizer(pattern)\n",
    "        \n",
    "        # Tokenize the text and return the tokens\n",
    "    tokens = tokenizer.tokenize(text)\n",
    "        \n",
    "    return tokens\n",
    "\n",
    "#applying function to the column  \n",
    "data['cleaned_tweet']= data['cleaned_tweet'].apply(lambda x: tokenize_with_regexp(x)) \n",
    "data['cleaned_tweet'].head(20)  \n"
   ]
  },
  {
   "cell_type": "markdown",
   "metadata": {},
   "source": [
    "### Stop Word Removal\n",
    "The NLTK library provides a convenient way to access and utilize a list of stopwords for various natural language processing tasks in English. By removing stopwords like **[i, me, my, myself, we, our, ours, ourselves, etc]** from text data, we can focus on the more meaningful and context-rich words, which can improve the accuracy and efficiency of text analysis, such as text classification or sentiment analysis.\n"
   ]
  },
  {
   "cell_type": "code",
   "execution_count": 19,
   "metadata": {},
   "outputs": [
    {
     "data": {
      "text/plain": [
       "0                                                [said]\n",
       "1     [plus, youve, added, commercials, experience, ...\n",
       "2     [didnt, today, must, mean, need, take, another...\n",
       "3     [really, aggressive, blast, obnoxious, enterta...\n",
       "4                             [really, big, bad, thing]\n",
       "5     [seriously, would, pay, 30, flight, seats, did...\n",
       "6     [yes, nearly, every, time, fly, vx, ear, worm,...\n",
       "7     [really, missed, prime, opportunity, men, with...\n",
       "8                                      [well, didntbut]\n",
       "9          [amazing, arrived, hour, early, youre, good]\n",
       "10    [know, suicide, second, leading, cause, death,...\n",
       "11    [lt3, pretty, graphics, much, better, minimal,...\n",
       "12    [great, deal, already, thinking, 2nd, trip, am...\n",
       "13    [im, flying, fabulous, seductive, skies, u, ta...\n",
       "14                                             [thanks]\n",
       "15                       [sfopdx, schedule, still, mia]\n",
       "16    [excited, first, cross, country, flight, lax, ...\n",
       "17    [flew, nyc, sfo, last, week, couldnt, fully, s...\n",
       "18                                             [flying]\n",
       "19    [know, would, amazingly, awesome, bosfll, plea...\n",
       "Name: cleaned_tweet, dtype: object"
      ]
     },
     "execution_count": 19,
     "metadata": {},
     "output_type": "execute_result"
    }
   ],
   "source": [
    "stopwords = nltk.corpus.stopwords.words('english')\n",
    "\n",
    "#defining the function to remove stopwords from tokenized text\n",
    "def remove_stopwords(text): \n",
    "    \n",
    "    output= [i for i in text if i not in stopwords]\n",
    "    \n",
    "    return output\n",
    "\n",
    "#applying the function\n",
    "data['cleaned_tweet']= data['cleaned_tweet'].apply(lambda x:remove_stopwords(x))\n",
    "data['cleaned_tweet'].head(20)"
   ]
  },
  {
   "cell_type": "markdown",
   "metadata": {},
   "source": [
    "### Lemmatization\n",
    "* Lemmatization is a more sophisticated approach that involves reducing words to their base or dictionary form (lemma) while considering the context and meaning of the word within the language.\n",
    "* Lemmatization relies on a pre-defined dictionary or vocabulary, which contains information about word meanings and their various forms. It ensures that the resulting word is a valid word in the language, unlike stemming which produces base forms that do not conform with standard dictionary. \n",
    "* The process typically produces more meaningful results compared to stemming. For example, \"running\" would be lemmatized to \"run,\" which is a valid English word.\n"
   ]
  },
  {
   "cell_type": "code",
   "execution_count": 22,
   "metadata": {},
   "outputs": [
    {
     "data": {
      "text/plain": [
       "0                                                [said]\n",
       "1     [youve, experience, commercial, plus, added, t...\n",
       "2     [take, need, today, mean, another, didnt, trip...\n",
       "3     [recourse, aggressive, face, blast, obnoxious,...\n",
       "4                             [really, big, bad, thing]\n",
       "5     [30, flight, didnt, flying, seriously, playing...\n",
       "6     [time, every, go, away, wont, yes, worm, nearl...\n",
       "7     [opportunity, men, missed, without, hat, prime...\n",
       "8                                      [well, didntbut]\n",
       "9          [early, amazing, hour, arrived, good, youre]\n",
       "10    [1024, suicide, second, leading, death, cause,...\n",
       "11    [better, much, minimal, graphic, iconography, ...\n",
       "12    [even, great, p, amp, deal, already, 1st, gone...\n",
       "13    [take, away, flying, stress, seductive, fabulo...\n",
       "14                                             [thanks]\n",
       "15                       [sfopdx, mia, still, schedule]\n",
       "16    [america, flight, mco, lax, country, heard, gr...\n",
       "17    [due, week, last, side, nyc, two, flew, large,...\n",
       "18                                             [flying]\n",
       "19    [amazingly, please, bosfll, want, fly, would, ...\n",
       "Name: cleaned_tweet, dtype: object"
      ]
     },
     "execution_count": 22,
     "metadata": {},
     "output_type": "execute_result"
    }
   ],
   "source": [
    "#defining the object for Lemmatization\n",
    "wordnet_lemmatizer = WordNetLemmatizer()\n",
    "\n",
    "#defining the function for lemmatization and remove duplicates in text\n",
    "def lemmatizer(text):\n",
    "    \n",
    "    lemm_text = [wordnet_lemmatizer.lemmatize(word) for word in text]\n",
    "    \n",
    "     # Remove duplicates by converting the list to a set and back to a list\n",
    "    lemm_text = list(set(lemm_text))\n",
    "    \n",
    "    return lemm_text\n",
    "\n",
    "data['cleaned_tweet'] = data['cleaned_tweet'].apply(lambda x:lemmatizer(x))\n",
    "data['cleaned_tweet'].head(20)\n"
   ]
  },
  {
   "cell_type": "markdown",
   "metadata": {},
   "source": [
    "## EXPLORATORY DATA ANALYSIS"
   ]
  },
  {
   "cell_type": "markdown",
   "metadata": {},
   "source": [
    "Exploratory data analysis is a critical step in the data analysis process that involves examining and visualizing dataset to gain insights and understand its characteristics. EDA helps in uncovering patterns, relationships, and potential issues in your data before diving into more advanced analyses."
   ]
  },
  {
   "cell_type": "markdown",
   "metadata": {},
   "source": [
    "**Checking the predominant sentiments expressed by passengers regarding major U.S. airlines**"
   ]
  },
  {
   "cell_type": "code",
   "execution_count": 23,
   "metadata": {},
   "outputs": [
    {
     "data": {
      "image/png": "[encoded data removed]",
      "text/plain": [
       "<Figure size 800x600 with 1 Axes>"
      ]
     },
     "metadata": {},
     "output_type": "display_data"
    }
   ],
   "source": [
    "# Checking the occurance of each sentiment\n",
    "count = data['airline_sentiment'].value_counts()\n",
    "\n",
    "# finding the percentage of each sentiment\n",
    "percentage = round(count/len(data['airline_sentiment'])*100,2)\n",
    "\n",
    "# Creating a plot for the distribution of sentiments\n",
    "plt.figure(figsize=(8, 6))\n",
    "sns.set(style=\"darkgrid\")\n",
    "sns.barplot(x=count.index, y=count, palette='viridis')\n",
    "\n",
    "# Showing the percentage of each sentiment at the top of each bars\n",
    "for i in range(count.shape[0]):\n",
    "    count = count\n",
    "    percentage = percentage\n",
    "    plt.text(i, count[i], str(percentage[i])+'%', \n",
    "             ha='center', va='bottom', fontweight='bold')\n",
    "    \n",
    "# Setting labels and title\n",
    "plt.xlabel('Sentiment', fontweight='bold', fontsize=12)\n",
    "plt.ylabel('Count', fontweight='bold', fontsize=12)\n",
    "plt.title('Distribution of Sentiments', fontweight='bold', fontsize=16);"
   ]
  },
  {
   "cell_type": "markdown",
   "metadata": {},
   "source": [
    "The negative sentiments seem to be most dominant across the airlines having a perecentage of 62.69%. Exploring further to find out the root cause of these sentiments would be beneficial to the airlines in order to improve their customers services as well as improve their retention rates for people who are travelling."
   ]
  },
  {
   "cell_type": "markdown",
   "metadata": {},
   "source": [
    "**Checking the distribution of sentiments per airline within the dataset**"
   ]
  },
  {
   "cell_type": "code",
   "execution_count": 34,
   "metadata": {},
   "outputs": [
    {
     "data": {
      "image/png": "[encoded data removed]",
      "text/plain": [
       "<Figure size 1400x1400 with 6 Axes>"
      ]
     },
     "metadata": {},
     "output_type": "display_data"
    }
   ],
   "source": [
    "# Grouping sentiments by airline.\n",
    "sentiment_by_airline = data.groupby(['airline', 'airline_sentiment']).size().unstack(fill_value=0)\n",
    "\n",
    "# Plotting the sentiment distribution for each airline\n",
    "plt.figure(figsize=(14, 14))\n",
    "#sns.set(style=\"whitegrid\")\n",
    "\n",
    "# Create subplots for each airline\n",
    "for i, airline in enumerate(sentiment_by_airline.index):\n",
    "    plt.subplot(3, 2, i + 1)\n",
    "    \n",
    "    # Extract sentiment counts for the current airline\n",
    "    sentiment_counts = sentiment_by_airline.loc[airline]\n",
    "    \n",
    "    # Create a bar plot for the sentiment distribution\n",
    "    sns.barplot(x=sentiment_counts.index, y=sentiment_counts.values, palette='viridis')\n",
    "    plt.title(f'Sentiment Distribution for {airline}', fontweight='bold')\n",
    "    plt.xlabel('Sentiment', fontweight='bold')\n",
    "    plt.ylabel('Count', fontweight='bold')\n",
    "\n",
    "plt.tight_layout();\n"
   ]
  },
  {
   "cell_type": "markdown",
   "metadata": {},
   "source": [
    "The bar graphs above show negative sentiments seem to be predominant across all the airlines. Virgin America seems to be most popular having a huge count of sentiments and also having the win for positive sentiments. US Airways have the lowest count for positive sentiments. United have the highest count for negative sentiments."
   ]
  }
 ],
 "metadata": {
  "kernelspec": {
   "display_name": "Python (learn-env)",
   "language": "python",
   "name": "learn-env"
  },
  "language_info": {
   "codemirror_mode": {
    "name": "ipython",
    "version": 3
   },
   "file_extension": ".py",
   "mimetype": "text/x-python",
   "name": "python",
   "nbconvert_exporter": "python",
   "pygments_lexer": "ipython3",
   "version": "3.10.11"
  }
 },
 "nbformat": 4,
 "nbformat_minor": 2
}
